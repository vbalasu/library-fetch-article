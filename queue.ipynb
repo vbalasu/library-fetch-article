{
 "cells": [
  {
   "cell_type": "code",
   "execution_count": 1,
   "id": "3ffd5ae5-c782-44d9-8279-f25ae2841300",
   "metadata": {},
   "outputs": [],
   "source": [
    "import boto3\n",
    "session = boto3.Session(profile_name='vbalasu_admin')\n",
    "sqs = session.client('sqs')\n",
    "queue_url = 'https://sqs.us-east-1.amazonaws.com/251566558623/library-fetch-article'"
   ]
  },
  {
   "cell_type": "markdown",
   "id": "62f8277b-5fd1-48a1-aaa8-cd6fe7260527",
   "metadata": {},
   "source": [
    "### Send Message"
   ]
  },
  {
   "cell_type": "code",
   "execution_count": 2,
   "id": "2c255764-063a-40a9-a4dc-29f49abe72da",
   "metadata": {},
   "outputs": [
    {
     "data": {
      "text/plain": [
       "200"
      ]
     },
     "execution_count": 2,
     "metadata": {},
     "output_type": "execute_result"
    }
   ],
   "source": [
    "import datetime, json\n",
    "message_body = {'time': datetime.datetime.utcnow().isoformat()}\n",
    "response = sqs.send_message(QueueUrl=queue_url, MessageBody=json.dumps(message_body))\n",
    "response['ResponseMetadata']['HTTPStatusCode']"
   ]
  },
  {
   "cell_type": "markdown",
   "id": "3d6affdd-93e0-47b3-9f8d-f8d794a5ccb1",
   "metadata": {},
   "source": [
    "### Receive Message"
   ]
  },
  {
   "cell_type": "code",
   "execution_count": 3,
   "id": "27d4b85f-cabc-4033-82ec-f562f8ec9408",
   "metadata": {
    "tags": []
   },
   "outputs": [],
   "source": [
    "response = sqs.receive_message(QueueUrl=queue_url, WaitTimeSeconds=20)"
   ]
  },
  {
   "cell_type": "code",
   "execution_count": 4,
   "id": "acccf080-0424-46c8-9072-1259981adcaa",
   "metadata": {},
   "outputs": [
    {
     "data": {
      "text/plain": [
       "{'time': '2022-04-26T02:37:23.739776'}"
      ]
     },
     "execution_count": 4,
     "metadata": {},
     "output_type": "execute_result"
    }
   ],
   "source": [
    "json.loads(response['Messages'][0]['Body'])"
   ]
  },
  {
   "cell_type": "markdown",
   "id": "9c5a19dd-1000-4f03-bf48-db59712f32eb",
   "metadata": {},
   "source": [
    "### Delete Message"
   ]
  },
  {
   "cell_type": "code",
   "execution_count": 5,
   "id": "ae5e0a39-0ebc-46e9-8543-cee9f5959fc6",
   "metadata": {},
   "outputs": [],
   "source": [
    "receipt_handle = response['Messages'][0]['ReceiptHandle']"
   ]
  },
  {
   "cell_type": "code",
   "execution_count": 6,
   "id": "063046b3-317d-4433-bf08-681d22dd313e",
   "metadata": {},
   "outputs": [
    {
     "data": {
      "text/plain": [
       "200"
      ]
     },
     "execution_count": 6,
     "metadata": {},
     "output_type": "execute_result"
    }
   ],
   "source": [
    "response = sqs.delete_message(QueueUrl=queue_url, ReceiptHandle=receipt_handle)\n",
    "response['ResponseMetadata']['HTTPStatusCode']"
   ]
  },
  {
   "cell_type": "code",
   "execution_count": null,
   "id": "e8675a7c-bfeb-489c-a883-f8a4dc2f585d",
   "metadata": {},
   "outputs": [],
   "source": []
  }
 ],
 "metadata": {
  "kernelspec": {
   "display_name": "Python 3 (ipykernel)",
   "language": "python",
   "name": "python3"
  },
  "language_info": {
   "codemirror_mode": {
    "name": "ipython",
    "version": 3
   },
   "file_extension": ".py",
   "mimetype": "text/x-python",
   "name": "python",
   "nbconvert_exporter": "python",
   "pygments_lexer": "ipython3",
   "version": "3.9.7"
  }
 },
 "nbformat": 4,
 "nbformat_minor": 5
}
