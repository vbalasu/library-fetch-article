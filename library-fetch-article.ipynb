{
 "cells": [
  {
   "cell_type": "code",
   "execution_count": 1,
   "id": "e30cbb63-898a-4726-983c-e8a32f5349e1",
   "metadata": {},
   "outputs": [],
   "source": [
    "import sys, os\n",
    "if 'ipykernel_launcher' in sys.argv[0]:\n",
    "    os.environ['SEARCH_STRING'] = \"Tech Wage Inflation Puts Pressure on Companies\"\n",
    "search_string = os.getenv('SEARCH_STRING')\n",
    "if not search_string:\n",
    "    sys.exit('Environment variable SEARCH_STRING not defined')"
   ]
  },
  {
   "cell_type": "code",
   "execution_count": 2,
   "id": "f58a1ec5-acc1-42ac-a819-d34d2ac10e08",
   "metadata": {},
   "outputs": [],
   "source": [
    "import uuid\n",
    "folder = '/tmp/' + str(uuid.uuid4())\n",
    "os.mkdir(folder)"
   ]
  },
  {
   "cell_type": "code",
   "execution_count": 3,
   "id": "d4732271",
   "metadata": {},
   "outputs": [],
   "source": [
    "from selenium import webdriver"
   ]
  },
  {
   "cell_type": "code",
   "execution_count": 4,
   "id": "2f4a52ff",
   "metadata": {},
   "outputs": [],
   "source": [
    "from selenium.webdriver.common.by import By"
   ]
  },
  {
   "cell_type": "code",
   "execution_count": 5,
   "id": "1a0490c1",
   "metadata": {},
   "outputs": [],
   "source": [
    "from selenium.webdriver.common.keys import Keys"
   ]
  },
  {
   "cell_type": "code",
   "execution_count": 6,
   "id": "901589ea",
   "metadata": {},
   "outputs": [],
   "source": [
    "# Set options for Save as PDF\n",
    "chrome_options = webdriver.ChromeOptions()\n",
    "settings = {\"recentDestinations\": [{\n",
    "    \"id\": \"Save as PDF\", \n",
    "    \"origin\": \"local\", \"account\": \"\"\n",
    "}], \n",
    "            \"selectedDestinationId\": \"Save as PDF\", \n",
    "            \"version\": 2}\n",
    "import json\n",
    "prefs = {'printing.print_preview_sticky_settings.appState': json.dumps(settings),\n",
    "        'savefile.default_directory': folder}\n",
    "chrome_options.add_experimental_option('prefs', prefs)\n",
    "chrome_options.add_argument('--kiosk-printing')\n",
    "#chrome_options.add_argument('--headless')"
   ]
  },
  {
   "cell_type": "code",
   "execution_count": 7,
   "id": "e3becca4",
   "metadata": {},
   "outputs": [],
   "source": [
    "driver = webdriver.Chrome(options=chrome_options)\n",
    "driver.implicitly_wait(10) # seconds\n",
    "driver.get('https://www-proquest-com.rpa.sccl.org/wallstreetjournal?accountid=6247')"
   ]
  },
  {
   "cell_type": "code",
   "execution_count": 8,
   "id": "d3ce227c-4014-4028-85fa-7c6dd9f1f892",
   "metadata": {},
   "outputs": [],
   "source": [
    "import mysecrets\n",
    "username = driver.find_element(by=By.CSS_SELECTOR, value='input[name=\"name\"]')\n",
    "username.send_keys(mysecrets.username)"
   ]
  },
  {
   "cell_type": "code",
   "execution_count": 9,
   "id": "97acd81c-8c9a-43d9-bcbc-cb3a8787d855",
   "metadata": {},
   "outputs": [],
   "source": [
    "pin = driver.find_element(by=By.CSS_SELECTOR, value='input[name=\"user_pin\"]')\n",
    "pin.send_keys(mysecrets.pin)\n",
    "pin.send_keys(Keys.RETURN)"
   ]
  },
  {
   "cell_type": "code",
   "execution_count": 10,
   "id": "9f2c132a-cce4-43b4-90fd-9a774db7901a",
   "metadata": {},
   "outputs": [],
   "source": [
    "search_bar = driver.find_element(by=By.CSS_SELECTOR, value='textarea#searchTerm')\n",
    "search_bar.clear()\n",
    "search_bar.send_keys(search_string)"
   ]
  },
  {
   "cell_type": "code",
   "execution_count": 11,
   "id": "69319604-2dc3-46dc-8e2f-58aac40eb3c1",
   "metadata": {},
   "outputs": [],
   "source": [
    "search_button = driver.find_element(by=By.CSS_SELECTOR, value='a#expandedSearch')\n",
    "search_button.click()"
   ]
  },
  {
   "cell_type": "code",
   "execution_count": 12,
   "id": "296b4450-80f3-4533-982e-6c9316b116eb",
   "metadata": {},
   "outputs": [],
   "source": [
    "first_result = driver.find_element(by=By.CSS_SELECTOR, value='a#citationDocTitleLink')\n",
    "first_result.click()"
   ]
  },
  {
   "cell_type": "code",
   "execution_count": 13,
   "id": "1f1a1bae",
   "metadata": {},
   "outputs": [],
   "source": [
    "driver.execute_script('window.print();')"
   ]
  },
  {
   "cell_type": "code",
   "execution_count": 14,
   "id": "2c6a09f7",
   "metadata": {},
   "outputs": [],
   "source": [
    "driver.quit()"
   ]
  },
  {
   "cell_type": "code",
   "execution_count": 15,
   "id": "e3558988-ae5e-4f85-a561-f685e5497fc0",
   "metadata": {},
   "outputs": [
    {
     "name": "stdout",
     "output_type": "stream",
     "text": [
      "/tmp/42735dd3-7e7a-489b-8be6-37205f411244/Tech Wage Inflation Puts Pressure on Companies; Many technology workers are commanding compensation increases of 20% or more, corporate tech chiefs say - The Wall Street Journal - ProQuest.pdf\n"
     ]
    }
   ],
   "source": [
    "print(folder + '/' + os.listdir(folder)[0])"
   ]
  }
 ],
 "metadata": {
  "kernelspec": {
   "display_name": "Python 3 (ipykernel)",
   "language": "python",
   "name": "python3"
  },
  "language_info": {
   "codemirror_mode": {
    "name": "ipython",
    "version": 3
   },
   "file_extension": ".py",
   "mimetype": "text/x-python",
   "name": "python",
   "nbconvert_exporter": "python",
   "pygments_lexer": "ipython3",
   "version": "3.9.7"
  }
 },
 "nbformat": 4,
 "nbformat_minor": 5
}
